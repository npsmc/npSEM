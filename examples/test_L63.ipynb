{
 "cells": [
  {
   "cell_type": "code",
   "execution_count": 1,
   "metadata": {},
   "outputs": [],
   "source": [
    "%matplotlib inline\n",
    "%config InlineBackend.figure_format = 'retina'"
   ]
  },
  {
   "cell_type": "code",
   "execution_count": 2,
   "metadata": {},
   "outputs": [],
   "source": [
    "import numpy as np \n",
    "from numpy.linalg import cholesky \n",
    "import matplotlib.pyplot as plt \n",
    "from tqdm import tqdm_notebook as tqdm "
   ]
  },
  {
   "cell_type": "code",
   "execution_count": 3,
   "metadata": {},
   "outputs": [],
   "source": [
    "import models.l63f as mdl_l63\n",
    "from models.L63 import l63_jac\n",
    "from methods.generate_data import generate_data\n",
    "from methods.LLR_forecasting_CV import m_LLR\n",
    "from methods.model_forecasting import m_true\n",
    "from methods.k_choice import k_choice\n",
    "from methods.CPF_BS_smoothing import _CPF, _CPF_BS\n",
    "from methods.SEM import CPF_BS_SEM\n",
    "from methods.npSEM import LLR_CPF_BS_SEM\n",
    "from methods.regression_2 import regression_2\n",
    "from methods.EnKS import _EnKS\n",
    "from save_load import saveTr, loadTr\n",
    "from methods.additives import RMSE"
   ]
  },
  {
   "cell_type": "code",
   "execution_count": 4,
   "metadata": {},
   "outputs": [],
   "source": [
    "#%% GENERATE SIMULATED DATA (LORENZ-63 MODEL)\n",
    "dx = 3 # dimension of the state\n",
    "dt_int = 0.01 # fixed integration time\n",
    "dt_model = 8 # chosen number of model time step  \\in [1, 25]-the larger dt_model the more nonliner model\n",
    "var_obs = np.array([0,1,2]) # indices of the observed variables\n",
    "dy = len(var_obs) # dimension of the observations\n",
    "H = np.eye(dx)\n",
    "#H = H[(0,2),:] #  first and third variables are observed\n",
    "h = lambda x: H.dot(x)  # observation model\n",
    "jacH = lambda x: H # Jacobian matrix  of the observation model(for EKS_EM only)\n",
    "sigma = 10.0\n",
    "rho = 28.0\n",
    "beta = 8.0/3 # physical parameters\n",
    "fmdl = mdl_l63.M(sigma=sigma, rho=rho, beta=beta, dtcy= dt_int)\n",
    "mx = lambda x: fmdl.integ(x) # fortran version (fast)\n",
    "jac_mx = lambda x: l63_jac(x, dt_int*dt_model, sigma, rho, beta) # python version (slow)\n",
    "\n",
    "# Setting covariances\n",
    "sig2_Q = 1; sig2_R = 2 # parameters\n",
    "Q_true = np.eye(dx) *sig2_Q # model covariance\n",
    "R_true = np.eye(dx) *sig2_R # observation covariance\n",
    "\n",
    "# prior state\n",
    "x0 = np.r_[8, 0, 30]\n",
    "\n",
    "# generate data\n",
    "T_burnin = 5*10**3\n",
    "T_train = 10*10**2 # length of the catalog\n",
    "T_test = 10*10**2 # length of the testing data\n",
    "X_train, Y_train, X_test, Y_test, yo = generate_data(x0,mx,h,Q_true,R_true,dt_int,dt_model,var_obs, T_burnin, T_train, T_test) \n",
    "X_train.time = np.arange(0,T_train)\n",
    "Y_train.time= X_train.time[1:]\n",
    "#np.random.seed(0);# random number generator\n",
    "N=np.size(Y_train.values);Ngap= np.floor(N/10); # create gaps: 10 percent of missing values\n",
    "indX=np.random.choice(np.arange(0,N), int(Ngap), replace=False)\n",
    "ind_gap_taken = divmod(indX ,len(Y_train.time))\n",
    "Y_train.values[ind_gap_taken]=np.nan\n",
    "\n",
    "X_train0, Y_train0, X_test0, Y_test0, yo0 = generate_data(X_train.values[:,-1],mx,h,Q_true,R_true,dt_int,dt_model,var_obs, T_burnin, T_train, T_test) \n",
    "X_train0.time = np.arange(0,T_train)\n",
    "Y_train0.time= X_train0.time[1:]"
   ]
  },
  {
   "cell_type": "code",
   "execution_count": 5,
   "metadata": {},
   "outputs": [],
   "source": [
    "#%% SETTING\n",
    "\n",
    "class Est:\n",
    "    pass\n",
    "\n",
    "estQ = Est()\n",
    "estQ.value = Q_true\n",
    "estQ.type = 'adaptive' # chosen predefined type of model error covatiance ('fixed', 'adaptive')\n",
    "estQ.form = 'constant' # chosen esimated matrix form ('full', 'diag', 'constant')\n",
    "estQ.base =  np.eye(dx) # for fixed base of model covariance (for 'constant' matrix form only)\n",
    "estQ.decision = True # chosen if Q is estimated or not ('True', 'False')\n",
    "\n",
    "estR = Est()\n",
    "estR.value = R_true\n",
    "estR.type = 'adaptive' # chosen predefined type of observation error covatiance ('fixed', 'adaptive')\n",
    "estR.form = 'constant' # chosen esimated matrix form ('full', 'diag', 'constant')\n",
    "estR.base =  np.eye(dx) # for fixed base of model covariance\n",
    "estR.decision = True # chosen if R is estimated or not ('True', 'False')\n",
    "    \n",
    "estX0 = Est()\n",
    "estX0.decision = False # chosen if X0 is estimated or not ('True', 'False')\n",
    "    \n",
    "estD = Est() # for non-parametric approach only\n",
    "estD.decision = True # chosen if the smoothed data is updated or not ('True', 'False')\n"
   ]
  },
  {
   "cell_type": "code",
   "execution_count": null,
   "metadata": {},
   "outputs": [],
   "source": [
    "#%% TEST FOR LOCAL LINEAR REGRESSION (LLR_forecasting_CV function)\n",
    "data_init = np.r_['0,2,0',Y_train.values[...,:-1], Y_train.values[...,1:]]\n",
    "ind_nogap = np.where(~np.isnan(np.sum(data_init,0)))[0]\n",
    "num_ana=200\n",
    "class LLRClass:\n",
    "    pass\n",
    "\n",
    "LLR = LLRClass()\n",
    "\n",
    "class Data:\n",
    "    \"catalog with analogs and successors\"\n",
    "    pass\n",
    "\n",
    "data = Data()    \n",
    "data.ana = np.zeros((dx,1,len(ind_nogap)))\n",
    "data.suc = np.zeros((dx,1,len(ind_nogap)))\n",
    "data.ana[:,0,:] = data_init[:dx,ind_nogap]\n",
    "data.suc[:,0,:] = data_init[dx:,ind_nogap]\n",
    "data.time = Y_train.time[ind_nogap] \n",
    "\n",
    "data_prev = Data()\n",
    "data_prev.ana =data_init[:dx,ind_nogap]\n",
    "data_prev.suc = data_init[dx:,ind_nogap]\n",
    "data_prev.time = Y_train.time[ind_nogap] \n",
    "\n",
    "LLR.data = data\n",
    "LLR.data_prev = data_prev\n",
    "LLR.lag_x = 5 # lag of removed analogs around x to avoid an over-fitting forecast\n",
    "LLR.lag_Dx = lambda Dx: np.shape(Dx)[-1] #15 lag of moving window of analogs chosen around x \n",
    "LLR.time_period = 1 # set 365.25 for year and \n",
    "LLR.k_m = [] # number of analogs \n",
    "LLR.k_Q = [] # number of analogs \n",
    "LLR.nN_m = np.arange(20,num_ana,50) #number of analogs to be chosen for mean estimation\n",
    "LLR.nN_Q = np.arange(20,num_ana,50) #number of analogs to be chosen for dynamical error covariance\n",
    "LLR.lag_k = 1 #chosen the lag for k reestimation \n",
    "LLR.estK = 'same' # set 'same' if k_m = k_Q chosen, otherwise, set 'different'\n",
    "LLR.kernel = 'tricube'# set 'rectangular' or 'tricube'\n",
    "LLR.k_lag = 20\n",
    "LLR.k_inc= 10\n",
    "LLR.Q = estQ\n",
    "LLR.gam = 1\n",
    "\n",
    "# To choose optimal analogs\n",
    "\n",
    "k_m, k_Q = k_choice(LLR,LLR.data.ana,LLR.data.suc,LLR.data.time)    #Need to be optimised: paralle runs?\n",
    "LLR.k_m =k_m\n",
    "LLR.k_Q =k_Q"
   ]
  },
  {
   "cell_type": "code",
   "execution_count": 6,
   "metadata": {},
   "outputs": [
    {
     "name": "stderr",
     "output_type": "stream",
     "text": [
      "/Users/navaro/PycharmProjects/lorenz63/methods/LLR_forecasting_CV.py:98: FutureWarning: `rcond` parameter will change to the default of machine precision times ``max(M, N)`` where M and N are the input matrix dimensions.\n",
      "To use the future default and silence this warning we advise to pass `rcond=None`, to keep using the old, explicitly pass `rcond=-1`.\n",
      "  M = np.linalg.lstsq(Aw.T, Bw.T)[0]\n"
     ]
    },
    {
     "data": {
      "text/plain": [
       "<Figure size 576x360 with 0 Axes>"
      ]
     },
     "metadata": {},
     "output_type": "display_data"
    },
    {
     "data": {
      "image/png": "[encoded data removed]",
      "text/plain": [
       "<Figure size 576x360 with 1 Axes>"
      ]
     },
     "metadata": {
      "image/png": {
       "height": 319,
       "width": 505
      }
     },
     "output_type": "display_data"
    }
   ],
   "source": [
    "# Forecast with LLR\n",
    "xf, mean_xf, Q_xf, M_xf = m_LLR(X_test.values[:,:-1],1,np.ones([1]),LLR)  #Need to be optimised"
   ]
  },
  {
   "cell_type": "code",
   "execution_count": 7,
   "metadata": {},
   "outputs": [],
   "source": [
    "#%% TEST FOR CONDITIONAL PARTICLE FILTERING (_CPF function)\n",
    "# Here I use the true model  (m) to forecast instead of LLR (m_hat). \n",
    "  \n",
    "m = lambda  x,pos_x,ind_x: m_true(x,pos_x,ind_x,Q_true, mx, jac_mx,dt_model)    \n",
    "# m_hat = lambda  x,pos_x,ind_x: m_LLR(x,pos_x,ind_x,LLR) \n",
    "\n",
    "time = np.arange(T_test-1)#[np.newaxis].T\n",
    "B = Q_true\n",
    "xb= X_test.values[...,0]\n",
    "\n",
    "Nf = 10# number of particles\n",
    "Ns =5 # number of realizations\n",
    "\n",
    "X_conditioning = np.zeros([dx,T_test])\n",
    "\n",
    "Xa, Xf, mean_Xf, cov_Xf, Wa, ind, loglik = _CPF(Y_test.values, X_conditioning, m, H, Q_true, R_true, xb, B, Nf,dx, time) #Need to be optimised"
   ]
  },
  {
   "cell_type": "code",
   "execution_count": 8,
   "metadata": {},
   "outputs": [],
   "source": [
    "#%% TEST FOR CONDITIONAL PARTICLE FILTERING-BACKWARD SIMULATION (_CPF_BS function)\n",
    "\n",
    "Xs, Xa, Xf, Xf_mean, Xf_cov, loglik= _CPF_BS(Y_test.values,X_test.values,m,Q_true,H,R_true,xb,B,X_conditioning,dx, Nf, Ns,time) #Need to be optimised: paralle run"
   ]
  },
  {
   "cell_type": "code",
   "execution_count": null,
   "metadata": {},
   "outputs": [],
   "source": []
  }
 ],
 "metadata": {
  "kernelspec": {
   "display_name": "Python 3",
   "language": "python",
   "name": "python3"
  },
  "language_info": {
   "codemirror_mode": {
    "name": "ipython",
    "version": 3
   },
   "file_extension": ".py",
   "mimetype": "text/x-python",
   "name": "python",
   "nbconvert_exporter": "python",
   "pygments_lexer": "ipython3",
   "version": "3.7.0"
  }
 },
 "nbformat": 4,
 "nbformat_minor": 2
}
